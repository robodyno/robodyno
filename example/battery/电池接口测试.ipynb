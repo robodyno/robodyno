{
 "cells": [
  {
   "attachments": {},
   "cell_type": "markdown",
   "id": "acdd2bea",
   "metadata": {},
   "source": [
    "### 电池测试"
   ]
  },
  {
   "cell_type": "code",
   "execution_count": 19,
   "id": "55b5e062-c997-430e-a1c5-7cc7b0dad001",
   "metadata": {
    "tags": []
   },
   "outputs": [],
   "source": [
    "from robodyno.components import Battery\n",
    "from robodyno.interfaces import CanBus\n",
    "\n",
    "can = CanBus()\n",
    "battery = Battery(can, 0x0f)"
   ]
  },
  {
   "cell_type": "code",
   "execution_count": 20,
   "id": "6b57e56a-1c38-424b-a036-995ec9ff7818",
   "metadata": {
    "tags": []
   },
   "outputs": [
    {
     "name": "stdout",
     "output_type": "stream",
     "text": [
      "Battery(id=0x0F, voltage=27.88, current=0.0, error=0, rsoc=0.91, fet=3)\n"
     ]
    }
   ],
   "source": [
    "print(battery)"
   ]
  },
  {
   "cell_type": "code",
   "execution_count": 21,
   "id": "80232cd0-375b-40c3-ab50-11fbc5074158",
   "metadata": {
    "tags": []
   },
   "outputs": [
    {
     "data": {
      "text/plain": [
       "27.88"
      ]
     },
     "execution_count": 21,
     "metadata": {},
     "output_type": "execute_result"
    }
   ],
   "source": [
    "battery.get_voltage(1)"
   ]
  },
  {
   "cell_type": "code",
   "execution_count": 10,
   "id": "e6efc0f6-de59-4985-9496-158ac084642e",
   "metadata": {
    "tags": []
   },
   "outputs": [
    {
     "data": {
      "text/plain": [
       "0.0"
      ]
     },
     "execution_count": 10,
     "metadata": {},
     "output_type": "execute_result"
    }
   ],
   "source": [
    "battery.get_current()"
   ]
  },
  {
   "cell_type": "code",
   "execution_count": 11,
   "id": "0689d65a-d8fd-4758-b7c3-8753dd117c7e",
   "metadata": {
    "tags": []
   },
   "outputs": [
    {
     "data": {
      "text/plain": [
       "(34.77, 38.4)"
      ]
     },
     "execution_count": 11,
     "metadata": {},
     "output_type": "execute_result"
    }
   ],
   "source": [
    "battery.get_capacity()"
   ]
  },
  {
   "cell_type": "code",
   "execution_count": 14,
   "id": "40a3b58e-53b3-499f-8e91-04ee73a0dc5d",
   "metadata": {
    "tags": []
   },
   "outputs": [
    {
     "data": {
      "text/plain": [
       "0"
      ]
     },
     "execution_count": 14,
     "metadata": {},
     "output_type": "execute_result"
    }
   ],
   "source": [
    "battery.get_cycle_count()"
   ]
  },
  {
   "cell_type": "code",
   "execution_count": 7,
   "id": "ad015251-d15c-4f34-9e91-3066167b0135",
   "metadata": {
    "tags": []
   },
   "outputs": [
    {
     "data": {
      "text/plain": [
       "datetime.datetime(23, 3, 24, 0, 0)"
      ]
     },
     "execution_count": 7,
     "metadata": {},
     "output_type": "execute_result"
    }
   ],
   "source": [
    "battery.get_manufacture_date()"
   ]
  },
  {
   "cell_type": "code",
   "execution_count": 8,
   "id": "85dfe8d9-5bd3-4d2b-817f-a0282fb562a4",
   "metadata": {
    "tags": []
   },
   "outputs": [
    {
     "data": {
      "text/plain": [
       "0"
      ]
     },
     "execution_count": 8,
     "metadata": {},
     "output_type": "execute_result"
    }
   ],
   "source": [
    "battery.get_equalization_status()"
   ]
  },
  {
   "cell_type": "code",
   "execution_count": 10,
   "id": "cce5863a-8fa6-471b-85c0-1bd475240a04",
   "metadata": {
    "tags": []
   },
   "outputs": [
    {
     "data": {
      "text/plain": [
       "0"
      ]
     },
     "execution_count": 10,
     "metadata": {},
     "output_type": "execute_result"
    }
   ],
   "source": [
    "battery.get_protect_status()"
   ]
  },
  {
   "cell_type": "code",
   "execution_count": 11,
   "id": "7df40af7-6e7b-44a4-9564-a79b2b33348f",
   "metadata": {
    "tags": []
   },
   "outputs": [
    {
     "data": {
      "text/plain": [
       "'2.2'"
      ]
     },
     "execution_count": 11,
     "metadata": {},
     "output_type": "execute_result"
    }
   ],
   "source": [
    "battery.get_hardware_version()"
   ]
  },
  {
   "cell_type": "code",
   "execution_count": 12,
   "id": "38f8e804-ac5d-4ed9-bdae-62e886dc2710",
   "metadata": {
    "tags": []
   },
   "outputs": [
    {
     "data": {
      "text/plain": [
       "0.91"
      ]
     },
     "execution_count": 12,
     "metadata": {},
     "output_type": "execute_result"
    }
   ],
   "source": [
    "battery.get_rsoc()"
   ]
  },
  {
   "cell_type": "code",
   "execution_count": 13,
   "id": "1e7c1b49-60d2-41ff-8636-9098b3e13cf4",
   "metadata": {
    "tags": []
   },
   "outputs": [
    {
     "data": {
      "text/plain": [
       "3"
      ]
     },
     "execution_count": 13,
     "metadata": {},
     "output_type": "execute_result"
    }
   ],
   "source": [
    "battery.get_fet()"
   ]
  },
  {
   "cell_type": "code",
   "execution_count": 14,
   "id": "48da02c6-95de-45d2-b6aa-f506c802230a",
   "metadata": {
    "tags": []
   },
   "outputs": [
    {
     "data": {
      "text/plain": [
       "7"
      ]
     },
     "execution_count": 14,
     "metadata": {},
     "output_type": "execute_result"
    }
   ],
   "source": [
    "battery.get_string_count()"
   ]
  },
  {
   "cell_type": "code",
   "execution_count": 16,
   "id": "ba1e5553-1e68-432c-be6c-9aa3dcedfabb",
   "metadata": {
    "tags": []
   },
   "outputs": [
    {
     "name": "stdout",
     "output_type": "stream",
     "text": [
      "2992 3011\n"
     ]
    },
    {
     "data": {
      "text/plain": [
       "(26.1, 28.0)"
      ]
     },
     "execution_count": 16,
     "metadata": {},
     "output_type": "execute_result"
    }
   ],
   "source": [
    "battery.get_temperature()"
   ]
  },
  {
   "cell_type": "code",
   "execution_count": 18,
   "id": "1c69665d-fd56-4ca6-902c-93729aa4afff",
   "metadata": {
    "tags": []
   },
   "outputs": [
    {
     "ename": "CanError",
     "evalue": "Failed to transmit: [Errno 6] No such device or address",
     "output_type": "error",
     "traceback": [
      "\u001b[0;31m---------------------------------------------------------------------------\u001b[0m",
      "\u001b[0;31mOSError\u001b[0m                                   Traceback (most recent call last)",
      "File \u001b[0;32m~/.local/lib/python3.8/site-packages/can/interfaces/socketcan/socketcan.py:679\u001b[0m, in \u001b[0;36mSocketcanBus._send_once\u001b[0;34m(self, data, channel)\u001b[0m\n\u001b[1;32m    678\u001b[0m     \u001b[39melse\u001b[39;00m:\n\u001b[0;32m--> 679\u001b[0m         sent \u001b[39m=\u001b[39m \u001b[39mself\u001b[39;49m\u001b[39m.\u001b[39;49msocket\u001b[39m.\u001b[39;49msend(data)\n\u001b[1;32m    680\u001b[0m \u001b[39mexcept\u001b[39;00m socket\u001b[39m.\u001b[39merror \u001b[39mas\u001b[39;00m exc:\n",
      "\u001b[0;31mOSError\u001b[0m: [Errno 6] No such device or address",
      "\nDuring handling of the above exception, another exception occurred:\n",
      "\u001b[0;31mCanError\u001b[0m                                  Traceback (most recent call last)",
      "Cell \u001b[0;32mIn[18], line 1\u001b[0m\n\u001b[0;32m----> 1\u001b[0m battery\u001b[39m.\u001b[39;49mconfig_can_bus(\u001b[39m0x0e\u001b[39;49m)\n",
      "File \u001b[0;32m~/work/robot/product/robodynoMotor/newLibrary/robodyno/src/robodyno/components/can_bus/battery.py:140\u001b[0m, in \u001b[0;36mBattery.config_can_bus\u001b[0;34m(self, new_id, heartbeat, bitrate)\u001b[0m\n\u001b[1;32m    134\u001b[0m     \u001b[39mraise\u001b[39;00m \u001b[39mValueError\u001b[39;00m(\u001b[39m'\u001b[39m\u001b[39mNew CAN id must be in the range of 0x01-0x3f.\u001b[39m\u001b[39m'\u001b[39m)\n\u001b[1;32m    135\u001b[0m bitrate_id \u001b[39m=\u001b[39m {\n\u001b[1;32m    136\u001b[0m     \u001b[39m250000\u001b[39m: \u001b[39m0\u001b[39m,\n\u001b[1;32m    137\u001b[0m     \u001b[39m500000\u001b[39m: \u001b[39m1\u001b[39m,\n\u001b[1;32m    138\u001b[0m     \u001b[39m1000000\u001b[39m: \u001b[39m2\u001b[39m,\n\u001b[1;32m    139\u001b[0m }\u001b[39m.\u001b[39mget(bitrate, \u001b[39m2\u001b[39m)\n\u001b[0;32m--> 140\u001b[0m \u001b[39mself\u001b[39;49m\u001b[39m.\u001b[39;49m_can\u001b[39m.\u001b[39;49msend(\n\u001b[1;32m    141\u001b[0m     \u001b[39mself\u001b[39;49m\u001b[39m.\u001b[39;49mid, \u001b[39mself\u001b[39;49m\u001b[39m.\u001b[39;49m_CMD_CONFIG_CAN, \u001b[39m'\u001b[39;49m\u001b[39mHHI\u001b[39;49m\u001b[39m'\u001b[39;49m, new_id, bitrate_id, \u001b[39mint\u001b[39;49m(heartbeat)\n\u001b[1;32m    142\u001b[0m )\n",
      "File \u001b[0;32m~/work/robot/product/robodynoMotor/newLibrary/robodyno/src/robodyno/interfaces/can_bus.py:156\u001b[0m, in \u001b[0;36mCanBus.send\u001b[0;34m(self, device_id, cmd_id, fmt, *args)\u001b[0m\n\u001b[1;32m    150\u001b[0m data \u001b[39m=\u001b[39m struct\u001b[39m.\u001b[39mpack(\u001b[39m'\u001b[39m\u001b[39m<\u001b[39m\u001b[39m'\u001b[39m \u001b[39m+\u001b[39m fmt, \u001b[39m*\u001b[39margs)\n\u001b[1;32m    151\u001b[0m msg \u001b[39m=\u001b[39m can\u001b[39m.\u001b[39mMessage(\n\u001b[1;32m    152\u001b[0m     arbitration_id\u001b[39m=\u001b[39marbitration_id,\n\u001b[1;32m    153\u001b[0m     is_extended_id\u001b[39m=\u001b[39m\u001b[39mFalse\u001b[39;00m,\n\u001b[1;32m    154\u001b[0m     data\u001b[39m=\u001b[39mdata,\n\u001b[1;32m    155\u001b[0m )\n\u001b[0;32m--> 156\u001b[0m \u001b[39mself\u001b[39;49m\u001b[39m.\u001b[39;49m_bus\u001b[39m.\u001b[39;49msend(msg)\n",
      "File \u001b[0;32m~/.local/lib/python3.8/site-packages/can/interfaces/socketcan/socketcan.py:658\u001b[0m, in \u001b[0;36mSocketcanBus.send\u001b[0;34m(self, msg, timeout)\u001b[0m\n\u001b[1;32m    655\u001b[0m \u001b[39mif\u001b[39;00m \u001b[39mnot\u001b[39;00m ready:\n\u001b[1;32m    656\u001b[0m     \u001b[39m# Timeout\u001b[39;00m\n\u001b[1;32m    657\u001b[0m     \u001b[39mbreak\u001b[39;00m\n\u001b[0;32m--> 658\u001b[0m sent \u001b[39m=\u001b[39m \u001b[39mself\u001b[39;49m\u001b[39m.\u001b[39;49m_send_once(data, msg\u001b[39m.\u001b[39;49mchannel)\n\u001b[1;32m    659\u001b[0m \u001b[39mif\u001b[39;00m sent \u001b[39m==\u001b[39m \u001b[39mlen\u001b[39m(data):\n\u001b[1;32m    660\u001b[0m     \u001b[39mreturn\u001b[39;00m\n",
      "File \u001b[0;32m~/.local/lib/python3.8/site-packages/can/interfaces/socketcan/socketcan.py:681\u001b[0m, in \u001b[0;36mSocketcanBus._send_once\u001b[0;34m(self, data, channel)\u001b[0m\n\u001b[1;32m    679\u001b[0m         sent \u001b[39m=\u001b[39m \u001b[39mself\u001b[39m\u001b[39m.\u001b[39msocket\u001b[39m.\u001b[39msend(data)\n\u001b[1;32m    680\u001b[0m \u001b[39mexcept\u001b[39;00m socket\u001b[39m.\u001b[39merror \u001b[39mas\u001b[39;00m exc:\n\u001b[0;32m--> 681\u001b[0m     \u001b[39mraise\u001b[39;00m can\u001b[39m.\u001b[39mCanError(\u001b[39m\"\u001b[39m\u001b[39mFailed to transmit: \u001b[39m\u001b[39m%s\u001b[39;00m\u001b[39m\"\u001b[39m \u001b[39m%\u001b[39m exc)\n\u001b[1;32m    682\u001b[0m \u001b[39mreturn\u001b[39;00m sent\n",
      "\u001b[0;31mCanError\u001b[0m: Failed to transmit: [Errno 6] No such device or address"
     ]
    }
   ],
   "source": [
    "battery.config_can_bus(0x0e)"
   ]
  },
  {
   "cell_type": "code",
   "execution_count": 14,
   "id": "b46532cb-571b-449f-918b-56ac54b93f84",
   "metadata": {
    "tags": []
   },
   "outputs": [
    {
     "ename": "ValueError",
     "evalue": "The device is not a battery supported by robodyno.",
     "output_type": "error",
     "traceback": [
      "\u001b[1;31m---------------------------------------------------------------------------\u001b[0m",
      "\u001b[1;31mValueError\u001b[0m                                Traceback (most recent call last)",
      "\u001b[1;32m~\\AppData\\Local\\Temp/ipykernel_26520/1974480799.py\u001b[0m in \u001b[0;36m<module>\u001b[1;34m\u001b[0m\n\u001b[1;32m----> 1\u001b[1;33m \u001b[0mbattery\u001b[0m \u001b[1;33m=\u001b[0m \u001b[0mBattery\u001b[0m\u001b[1;33m(\u001b[0m\u001b[0mcan\u001b[0m\u001b[1;33m,\u001b[0m \u001b[1;36m0x0e\u001b[0m\u001b[1;33m)\u001b[0m\u001b[1;33m\u001b[0m\u001b[1;33m\u001b[0m\u001b[0m\n\u001b[0m",
      "\u001b[1;32mc:\\users\\zhaos\\desktop\\workspace\\robodyno\\src\\robodyno\\components\\__init__.py\u001b[0m in \u001b[0;36mconstruct_component\u001b[1;34m(interface, *args, **kwargs)\u001b[0m\n\u001b[0;32m     63\u001b[0m         \u001b[1;32mif\u001b[0m \u001b[0mcomponent_name\u001b[0m \u001b[1;32min\u001b[0m \u001b[0m__components\u001b[0m\u001b[1;33m:\u001b[0m\u001b[1;33m\u001b[0m\u001b[1;33m\u001b[0m\u001b[0m\n\u001b[0;32m     64\u001b[0m             \u001b[1;32mif\u001b[0m \u001b[0minterface_type\u001b[0m \u001b[1;32min\u001b[0m \u001b[0m__components\u001b[0m\u001b[1;33m[\u001b[0m\u001b[0mcomponent_name\u001b[0m\u001b[1;33m]\u001b[0m\u001b[1;33m:\u001b[0m\u001b[1;33m\u001b[0m\u001b[1;33m\u001b[0m\u001b[0m\n\u001b[1;32m---> 65\u001b[1;33m                 return __components[component_name][interface_type](\n\u001b[0m\u001b[0;32m     66\u001b[0m                     \u001b[0minterface\u001b[0m\u001b[1;33m,\u001b[0m \u001b[1;33m*\u001b[0m\u001b[0margs\u001b[0m\u001b[1;33m,\u001b[0m \u001b[1;33m**\u001b[0m\u001b[0mkwargs\u001b[0m\u001b[1;33m\u001b[0m\u001b[1;33m\u001b[0m\u001b[0m\n\u001b[0;32m     67\u001b[0m                 )\n",
      "\u001b[1;32mc:\\users\\zhaos\\desktop\\workspace\\robodyno\\src\\robodyno\\components\\can_bus\\battery.py\u001b[0m in \u001b[0;36m__init__\u001b[1;34m(self, can, id_)\u001b[0m\n\u001b[0;32m     82\u001b[0m         \u001b[0mself\u001b[0m\u001b[1;33m.\u001b[0m\u001b[0mget_version\u001b[0m\u001b[1;33m(\u001b[0m\u001b[0mtimeout\u001b[0m\u001b[1;33m=\u001b[0m\u001b[1;36m0.015\u001b[0m\u001b[1;33m)\u001b[0m\u001b[1;33m\u001b[0m\u001b[1;33m\u001b[0m\u001b[0m\n\u001b[0;32m     83\u001b[0m         \u001b[1;32mif\u001b[0m \u001b[0mself\u001b[0m\u001b[1;33m.\u001b[0m\u001b[0mtype\u001b[0m \u001b[1;32mis\u001b[0m \u001b[1;32mNone\u001b[0m \u001b[1;32mor\u001b[0m \u001b[0mself\u001b[0m\u001b[1;33m.\u001b[0m\u001b[0mtype\u001b[0m \u001b[1;33m!=\u001b[0m \u001b[0mModel\u001b[0m\u001b[1;33m.\u001b[0m\u001b[0mROBODYNO_BATTERY\u001b[0m\u001b[1;33m:\u001b[0m\u001b[1;33m\u001b[0m\u001b[1;33m\u001b[0m\u001b[0m\n\u001b[1;32m---> 84\u001b[1;33m             \u001b[1;32mraise\u001b[0m \u001b[0mValueError\u001b[0m\u001b[1;33m(\u001b[0m\u001b[1;34m'The device is not a battery supported by robodyno.'\u001b[0m\u001b[1;33m)\u001b[0m\u001b[1;33m\u001b[0m\u001b[1;33m\u001b[0m\u001b[0m\n\u001b[0m\u001b[0;32m     85\u001b[0m         \u001b[0mself\u001b[0m\u001b[1;33m.\u001b[0m\u001b[0mvoltage\u001b[0m \u001b[1;33m=\u001b[0m \u001b[1;36m0.0\u001b[0m\u001b[1;33m\u001b[0m\u001b[1;33m\u001b[0m\u001b[0m\n\u001b[0;32m     86\u001b[0m         \u001b[0mself\u001b[0m\u001b[1;33m.\u001b[0m\u001b[0mcurrent\u001b[0m \u001b[1;33m=\u001b[0m \u001b[1;36m0.0\u001b[0m\u001b[1;33m\u001b[0m\u001b[1;33m\u001b[0m\u001b[0m\n",
      "\u001b[1;31mValueError\u001b[0m: The device is not a battery supported by robodyno."
     ]
    }
   ],
   "source": [
    "battery = Battery(can, 0x0e)"
   ]
  },
  {
   "cell_type": "code",
   "execution_count": 22,
   "id": "928bfdef-c4fa-4046-a959-48816c01cb54",
   "metadata": {},
   "outputs": [
    {
     "name": "stdout",
     "output_type": "stream",
     "text": [
      "15\n",
      "2\n",
      "500\n"
     ]
    },
    {
     "name": "stderr",
     "output_type": "stream",
     "text": [
      "Exception in thread Thread-8:\n",
      "Traceback (most recent call last):\n",
      "  File \"/home/ubuntu-ryan/.local/lib/python3.8/site-packages/can/interfaces/socketcan/socketcan.py\", line 498, in capture_message\n",
      "    cf = sock.recv(CANFD_MTU)\n",
      "OSError: [Errno 100] Network is down\n",
      "\n",
      "During handling of the above exception, another exception occurred:\n",
      "\n",
      "Traceback (most recent call last):\n",
      "  File \"/usr/lib/python3.8/threading.py\", line 932, in _bootstrap_inner\n",
      "    self.run()\n",
      "  File \"/usr/lib/python3.8/threading.py\", line 870, in run\n",
      "    self._target(*self._args, **self._kwargs)\n",
      "  File \"/home/ubuntu-ryan/work/robot/product/robodynoMotor/newLibrary/robodyno/src/robodyno/interfaces/can_bus.py\", line 259, in _recv_loop\n",
      "    msg = self._bus.recv(timeout=1.0)\n",
      "  File \"/home/ubuntu-ryan/.local/lib/python3.8/site-packages/can/bus.py\", line 83, in recv\n",
      "    msg, already_filtered = self._recv_internal(timeout=time_left)\n",
      "  File \"/home/ubuntu-ryan/.local/lib/python3.8/site-packages/can/interfaces/socketcan/socketcan.py\", line 621, in _recv_internal\n",
      "    msg = capture_message(self.socket, get_channel)\n",
      "  File \"/home/ubuntu-ryan/.local/lib/python3.8/site-packages/can/interfaces/socketcan/socketcan.py\", line 501, in capture_message\n",
      "    raise can.CanError(\"Error receiving: %s\" % exc)\n",
      "can.CanError: Error receiving: [Errno 100] Network is down\n"
     ]
    }
   ],
   "source": [
    "battery.config_can_bus(0x0f, heartbeat=500, bitrate=1000000)"
   ]
  },
  {
   "cell_type": "code",
   "execution_count": null,
   "id": "4791b655",
   "metadata": {},
   "outputs": [],
   "source": []
  }
 ],
 "metadata": {
  "kernelspec": {
   "display_name": "Python 3 (ipykernel)",
   "language": "python",
   "name": "python3"
  },
  "language_info": {
   "codemirror_mode": {
    "name": "ipython",
    "version": 3
   },
   "file_extension": ".py",
   "mimetype": "text/x-python",
   "name": "python",
   "nbconvert_exporter": "python",
   "pygments_lexer": "ipython3",
   "version": "3.8.10"
  }
 },
 "nbformat": 4,
 "nbformat_minor": 5
}
