{
 "cells": [
  {
   "attachments": {},
   "cell_type": "markdown",
   "id": "a33a60be-1c4f-4515-b091-85c87e40be4b",
   "metadata": {},
   "source": [
    "# Robodyno Impact Sensor API"
   ]
  },
  {
   "attachments": {},
   "cell_type": "markdown",
   "id": "125f5f75-af84-44da-9a29-14a950856a90",
   "metadata": {},
   "source": [
    "## 1.初始化防撞条传感器对象"
   ]
  },
  {
   "attachments": {},
   "cell_type": "markdown",
   "id": "d15fa1be-065e-43ff-ad96-f1474fdb902b",
   "metadata": {},
   "source": [
    "`ImpactSensor(can, id_)`\n",
    "\n",
    "参数：\n",
    "- `can` : can总线接口\n",
    "- `id_` : 防撞条传感器模块ID，默认`0x34`"
   ]
  },
  {
   "cell_type": "code",
   "execution_count": 25,
   "id": "a878b6fb-9912-419e-bd75-c91c5e5e376b",
   "metadata": {
    "collapsed": true,
    "jupyter": {
     "outputs_hidden": true
    },
    "tags": []
   },
   "outputs": [],
   "source": [
    "from robodyno.components import ImpactSensor\n",
    "from robodyno.interfaces import CanBus\n",
    "can = CanBus()\n",
    "impact = ImpactSensor(can, 0x34)"
   ]
  },
  {
   "attachments": {},
   "cell_type": "markdown",
   "id": "6220f4cb-76bc-49e1-a1cf-a54e9c6441c0",
   "metadata": {},
   "source": [
    "## 2.读取防撞条传感器版本"
   ]
  },
  {
   "attachments": {},
   "cell_type": "markdown",
   "id": "e0ce197b-dd36-463c-ac45-5133c86fe758",
   "metadata": {},
   "source": [
    "`get_version(timeout = 0)`\n",
    "\n",
    "参数：\n",
    "\n",
    "- timeout : 请求超时时间(s)，0代表无超时时间\n",
    "\n",
    "返回值 ：\n",
    "\n",
    "- API版本dict\n",
    "    - `main_version` : 主版本号\n",
    "    - `sub_version` : 副版本号\n",
    "    - `type` : 设备类型\n",
    "        - ROBODYNO_IMPACT_SENSOR"
   ]
  },
  {
   "cell_type": "code",
   "execution_count": 26,
   "id": "8c3f87a0-a132-432b-b22c-1a7dfdfbe5bc",
   "metadata": {
    "tags": []
   },
   "outputs": [
    {
     "data": {
      "text/plain": [
       "{'main_version': 0,\n",
       " 'sub_version': 1,\n",
       " 'type': <Model.ROBODYNO_IMPACT_SENSOR: 165>}"
      ]
     },
     "execution_count": 26,
     "metadata": {},
     "output_type": "execute_result"
    }
   ],
   "source": [
    "impact.get_version(1)"
   ]
  },
  {
   "attachments": {},
   "cell_type": "markdown",
   "id": "2c531d37-bfc6-4d0b-8194-c5fd3b4f2576",
   "metadata": {},
   "source": [
    "## 3.设置CAN_ID"
   ]
  },
  {
   "attachments": {},
   "cell_type": "markdown",
   "id": "f8b595eb-f325-4d88-be72-28801d55d9ca",
   "metadata": {},
   "source": [
    "`config_can_bus(new_id = None, bitrate = 1000000)`\n",
    "\n",
    "参数 ：\n",
    "\n",
    "- `new_id` ：防撞条传感器的新CAN_ID (默认：`0x34`)\n",
    "- `bitrate` : CAN总线通讯速率\n",
    "    - 1000000\n",
    "    - 500000\n",
    "    - 250000"
   ]
  },
  {
   "cell_type": "code",
   "execution_count": 23,
   "id": "2236fa59-4f9c-46a3-871c-8a2ebf6ad948",
   "metadata": {
    "tags": []
   },
   "outputs": [],
   "source": [
    "impact.config_can_bus(0x34)"
   ]
  },
  {
   "attachments": {},
   "cell_type": "markdown",
   "id": "d9ed41f4-43aa-4bf3-a7a8-228f5e5c21d8",
   "metadata": {},
   "source": [
    "## 4.读取防撞条传感器状态"
   ]
  },
  {
   "attachments": {},
   "cell_type": "markdown",
   "id": "8571ce8c-32e2-4ad5-8cf3-0f36790d6f2a",
   "metadata": {},
   "source": [
    "`get_status(timeout=0.02)`\n",
    "\n",
    "参数：\n",
    "\n",
    "- `timeout` : 请求超时时间(s)\n",
    "\n",
    "返回值:\n",
    "\n",
    "- 读取防撞条传感器的触发器状态。如果读取超时，则为None。\n",
    "  - 触发：0\n",
    "  - 未触发：1"
   ]
  },
  {
   "cell_type": "code",
   "execution_count": 27,
   "id": "06c5b473-72ee-4c4b-99da-039c507489ab",
   "metadata": {
    "tags": []
   },
   "outputs": [
    {
     "data": {
      "text/plain": [
       "1"
      ]
     },
     "execution_count": 27,
     "metadata": {},
     "output_type": "execute_result"
    }
   ],
   "source": [
    "impact.get_status()"
   ]
  },
  {
   "cell_type": "code",
   "execution_count": null,
   "id": "f21ea3cf",
   "metadata": {},
   "outputs": [],
   "source": []
  }
 ],
 "metadata": {
  "kernelspec": {
   "display_name": "Python 3 (ipykernel)",
   "language": "python",
   "name": "python3"
  },
  "language_info": {
   "codemirror_mode": {
    "name": "ipython",
    "version": 3
   },
   "file_extension": ".py",
   "mimetype": "text/x-python",
   "name": "python",
   "nbconvert_exporter": "python",
   "pygments_lexer": "ipython3",
   "version": "3.8.10"
  }
 },
 "nbformat": 4,
 "nbformat_minor": 5
}
